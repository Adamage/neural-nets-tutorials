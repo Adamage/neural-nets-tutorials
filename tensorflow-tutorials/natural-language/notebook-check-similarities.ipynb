{
 "cells": [
  {
   "cell_type": "markdown",
   "metadata": {
    "collapsed": true
   },
   "source": [
    "# Using pretrained model of word representations\n",
    "## Trained with dataset of TED talks\n",
    "### Using gensim Word2Vec python implementation"
   ]
  },
  {
   "cell_type": "code",
   "execution_count": 1,
   "metadata": {
    "collapsed": true
   },
   "outputs": [],
   "source": [
    "import os\n",
    "from utils import gensim_utils, preprocessing_utils"
   ]
  },
  {
   "cell_type": "markdown",
   "metadata": {},
   "source": [
    "Load TED talks preprocessed sentences and train a gensim model using Word2Vec."
   ]
  },
  {
   "cell_type": "code",
   "execution_count": 2,
   "metadata": {
    "collapsed": true
   },
   "outputs": [],
   "source": [
    "dump_path = 'sentences.json'\n",
    "ppu = preprocessing_utils()\n",
    "word2vec_model_path = os.path.join(ppu.outputs_dir, 'ted_word2vec_model')\n",
    "sentences_ted = ppu.ensure_tokenized_sentences(dump_path)\n",
    "model = gensim_utils.ensure_gensim_model(sentences_ted, word2vec_model_path)"
   ]
  },
  {
   "cell_type": "code",
   "execution_count": 3,
   "metadata": {
    "collapsed": true
   },
   "outputs": [],
   "source": [
    "word_vectors = model.wv\n",
    "del model"
   ]
  },
  {
   "cell_type": "markdown",
   "metadata": {},
   "source": [
    "Let's inspect what we loaded."
   ]
  },
  {
   "cell_type": "code",
   "execution_count": 10,
   "metadata": {},
   "outputs": [
    {
     "name": "stdout",
     "output_type": "stream",
     "text": [
      "Amount of words: 21444, each word's vector has dimensionality: 300\n"
     ]
    }
   ],
   "source": [
    "representation_shape = word_vectors.syn0.shape\n",
    "print(\"Amount of words: {0}, each word's vector has dimensionality: {1}\".format(representation_shape[0],representation_shape[1]))"
   ]
  },
  {
   "cell_type": "code",
   "execution_count": 11,
   "metadata": {},
   "outputs": [
    {
     "data": {
      "text/plain": [
       "[('leg', 0.8087558746337891),\n",
       " ('cat', 0.8000196218490601),\n",
       " ('chair', 0.7916324138641357),\n",
       " ('seat', 0.7710294127464294),\n",
       " ('mom', 0.7309160828590393),\n",
       " ('arm', 0.7252623438835144),\n",
       " ('uncle', 0.7247534990310669),\n",
       " ('doctor', 0.7232160568237305),\n",
       " ('horse', 0.7225536108016968),\n",
       " ('nose', 0.7205586433410645)]"
      ]
     },
     "execution_count": 11,
     "metadata": {},
     "output_type": "execute_result"
    }
   ],
   "source": [
    "word_vectors.most_similar(\"dog\")"
   ]
  },
  {
   "cell_type": "code",
   "execution_count": 12,
   "metadata": {},
   "outputs": [
    {
     "data": {
      "text/plain": [
       "[('article', 0.7486690878868103),\n",
       " ('film', 0.7404119968414307),\n",
       " ('poem', 0.7263230085372925),\n",
       " ('song', 0.7032027244567871),\n",
       " ('movie', 0.6998803615570068),\n",
       " ('presentation', 0.6839979887008667),\n",
       " ('newspaper', 0.6823939085006714),\n",
       " ('magazine', 0.682195782661438),\n",
       " ('writing', 0.6790601015090942),\n",
       " ('letter', 0.6772950887680054)]"
      ]
     },
     "execution_count": 12,
     "metadata": {},
     "output_type": "execute_result"
    }
   ],
   "source": [
    "word_vectors.most_similar(\"book\")"
   ]
  },
  {
   "cell_type": "code",
   "execution_count": 13,
   "metadata": {},
   "outputs": [
    {
     "name": "stdout",
     "output_type": "stream",
     "text": [
      "book + imagination [('character', 0.7312402725219727), ('invention', 0.7286284565925598), ('spirit', 0.7126632928848267), ('identity', 0.687268853187561), ('voice', 0.6801937818527222), ('artwork', 0.6758895516395569), ('discovery', 0.6757424473762512), ('legacy', 0.6741958856582642), ('presentation', 0.6715242862701416), ('experience', 0.6665824055671692)]\n"
     ]
    }
   ],
   "source": [
    "print(\"book + imagination \" + str(word_vectors.most_similar(positive=['book', 'imagination'])))\n",
    "\n"
   ]
  },
  {
   "cell_type": "code",
   "execution_count": 20,
   "metadata": {},
   "outputs": [
    {
     "name": "stdout",
     "output_type": "stream",
     "text": [
      "person + money - power = [('doctor', 0.5302367210388184), ('patient', 0.5069763660430908), ('child', 0.49573957920074463), ('someone', 0.4861060082912445), ('guy', 0.48573240637779236), ('coffee', 0.48554813861846924), ('woman', 0.48382532596588135), ('kid', 0.4751068949699402), ('dog', 0.4682122468948364), ('somebody', 0.4657544791698456)]\n"
     ]
    }
   ],
   "source": [
    "print(\"person + money - power = \" + str(word_vectors.most_similar(positive=['person', 'money'],\n",
    "                                                                 negative=['power'])))"
   ]
  },
  {
   "cell_type": "code",
   "execution_count": null,
   "metadata": {
    "collapsed": true
   },
   "outputs": [],
   "source": []
  }
 ],
 "metadata": {
  "kernelspec": {
   "display_name": "Python 3",
   "language": "python",
   "name": "python3"
  },
  "language_info": {
   "codemirror_mode": {
    "name": "ipython",
    "version": 3
   },
   "file_extension": ".py",
   "mimetype": "text/x-python",
   "name": "python",
   "nbconvert_exporter": "python",
   "pygments_lexer": "ipython3",
   "version": "3.5.2"
  }
 },
 "nbformat": 4,
 "nbformat_minor": 1
}
