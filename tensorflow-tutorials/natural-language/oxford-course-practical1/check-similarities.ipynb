{
 "cells": [
  {
   "cell_type": "markdown",
   "metadata": {
    "collapsed": true
   },
   "source": [
    "# Using pretrained model of word representatiosn\n",
    "## Trained with dataset of TED talks\n",
    "### Using gensim Word2Vec python implementation"
   ]
  },
  {
   "cell_type": "code",
   "execution_count": null,
   "metadata": {},
   "outputs": [],
   "source": [
    "from utils import gensim_utils, preprocessing_utils\n",
    "dump_path = 'sentences.json'\n",
    "ppu = preprocessing_utils()\n",
    "word2vec_model_path = os.path.join(ppu.outputs_dir, 'ted_word2vec_model')\n",
    "sentences_ted = ppu.ensure_tokenized_sentences(dump_path)\n",
    "model = gensim_utils.ensure_gensim_model(sentences_ted, word2vec_model_path)"
   ]
  },
  {
   "cell_type": "code",
   "execution_count": null,
   "metadata": {},
   "outputs": [],
   "source": [
    "word_vectors = model.wv\n",
    "del model"
   ]
  },
  {
   "cell_type": "code",
   "execution_count": null,
   "metadata": {},
   "outputs": [],
   "source": [
    "print(\"woman + king - man = \" + str(word_vectors.most_similar(positive=['woman', 'king'],\n",
    "                                                              negative=['man'])))\n",
    "\n"
   ]
  },
  {
   "cell_type": "code",
   "execution_count": null,
   "metadata": {},
   "outputs": [],
   "source": [
    "print(\"italy + rome - france = \" + str(word_vectors.most_similar(positive=['italy', 'rome'],\n",
    "                                                                 negative=['france'])))"
   ]
  }
 ],
 "metadata": {
  "kernelspec": {
   "display_name": "Python 2",
   "language": "python",
   "name": "python2"
  },
  "language_info": {
   "codemirror_mode": {
    "name": "ipython",
    "version": 2.0
   },
   "file_extension": ".py",
   "mimetype": "text/x-python",
   "name": "python",
   "nbconvert_exporter": "python",
   "pygments_lexer": "ipython2",
   "version": "2.7.6"
  }
 },
 "nbformat": 4,
 "nbformat_minor": 0
}